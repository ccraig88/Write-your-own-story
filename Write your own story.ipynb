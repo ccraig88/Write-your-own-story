{
 "cells": [
  {
   "cell_type": "markdown",
   "metadata": {},
   "source": [
    "## Write your own story\n",
    "\n",
    "We are living in a world in which data is collected and stored every day. For the average person, this data may come from a smart watch tracking their movements throughout the day. For a CEO, it may be quarterly production data on a new lighthouse project. No matter what, data is being collected all around us and will only continue to expand in the years to come. \n",
    "\n",
    "With all this data, it is only natural for one to ask how to use this data to make smarter, more impactful decisions. My ideal job is a position that reviews collected data, analyzes this data, and uses the output to predict future outcomes. Whether this is a Data Scientist position, a Data Analyst position, or something else entirely, I strongly believe that indiividuals that can take troves of Big Data and use it to create meaningful insights will have a lasting impact in their careers. "
   ]
  },
  {
   "cell_type": "code",
   "execution_count": null,
   "metadata": {},
   "outputs": [],
   "source": []
  }
 ],
 "metadata": {
  "kernelspec": {
   "display_name": "Python 3",
   "language": "python",
   "name": "python3"
  },
  "language_info": {
   "codemirror_mode": {
    "name": "ipython",
    "version": 3
   },
   "file_extension": ".py",
   "mimetype": "text/x-python",
   "name": "python",
   "nbconvert_exporter": "python",
   "pygments_lexer": "ipython3",
   "version": "3.6.4"
  }
 },
 "nbformat": 4,
 "nbformat_minor": 2
}
